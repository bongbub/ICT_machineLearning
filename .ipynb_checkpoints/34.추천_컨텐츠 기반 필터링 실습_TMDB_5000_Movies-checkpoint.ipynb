{
 "cells": [
  {
   "cell_type": "code",
   "execution_count": 1,
   "id": "6cece002-f707-4493-936e-b23618386fc8",
   "metadata": {},
   "outputs": [
    {
     "name": "stdout",
     "output_type": "stream",
     "text": [
      "(4803, 20)\n"
     ]
    },
    {
     "data": {
      "text/html": [
       "<div>\n",
       "<style scoped>\n",
       "    .dataframe tbody tr th:only-of-type {\n",
       "        vertical-align: middle;\n",
       "    }\n",
       "\n",
       "    .dataframe tbody tr th {\n",
       "        vertical-align: top;\n",
       "    }\n",
       "\n",
       "    .dataframe thead th {\n",
       "        text-align: right;\n",
       "    }\n",
       "</style>\n",
       "<table border=\"1\" class=\"dataframe\">\n",
       "  <thead>\n",
       "    <tr style=\"text-align: right;\">\n",
       "      <th></th>\n",
       "      <th>budget</th>\n",
       "      <th>genres</th>\n",
       "      <th>homepage</th>\n",
       "      <th>id</th>\n",
       "      <th>keywords</th>\n",
       "      <th>original_language</th>\n",
       "      <th>original_title</th>\n",
       "      <th>overview</th>\n",
       "      <th>popularity</th>\n",
       "      <th>production_companies</th>\n",
       "      <th>production_countries</th>\n",
       "      <th>release_date</th>\n",
       "      <th>revenue</th>\n",
       "      <th>runtime</th>\n",
       "      <th>spoken_languages</th>\n",
       "      <th>status</th>\n",
       "      <th>tagline</th>\n",
       "      <th>title</th>\n",
       "      <th>vote_average</th>\n",
       "      <th>vote_count</th>\n",
       "    </tr>\n",
       "  </thead>\n",
       "  <tbody>\n",
       "    <tr>\n",
       "      <th>0</th>\n",
       "      <td>237000000</td>\n",
       "      <td>[{\"id\": 28, \"name\": \"Action\"}, {\"id\": 12, \"nam...</td>\n",
       "      <td>http://www.avatarmovie.com/</td>\n",
       "      <td>19995</td>\n",
       "      <td>[{\"id\": 1463, \"name\": \"culture clash\"}, {\"id\":...</td>\n",
       "      <td>en</td>\n",
       "      <td>Avatar</td>\n",
       "      <td>In the 22nd century, a paraplegic Marine is di...</td>\n",
       "      <td>150.437577</td>\n",
       "      <td>[{\"name\": \"Ingenious Film Partners\", \"id\": 289...</td>\n",
       "      <td>[{\"iso_3166_1\": \"US\", \"name\": \"United States o...</td>\n",
       "      <td>2009-12-10</td>\n",
       "      <td>2787965087</td>\n",
       "      <td>162.0</td>\n",
       "      <td>[{\"iso_639_1\": \"en\", \"name\": \"English\"}, {\"iso...</td>\n",
       "      <td>Released</td>\n",
       "      <td>Enter the World of Pandora.</td>\n",
       "      <td>Avatar</td>\n",
       "      <td>7.2</td>\n",
       "      <td>11800</td>\n",
       "    </tr>\n",
       "  </tbody>\n",
       "</table>\n",
       "</div>"
      ],
      "text/plain": [
       "      budget                                             genres  \\\n",
       "0  237000000  [{\"id\": 28, \"name\": \"Action\"}, {\"id\": 12, \"nam...   \n",
       "\n",
       "                      homepage     id  \\\n",
       "0  http://www.avatarmovie.com/  19995   \n",
       "\n",
       "                                            keywords original_language  \\\n",
       "0  [{\"id\": 1463, \"name\": \"culture clash\"}, {\"id\":...                en   \n",
       "\n",
       "  original_title                                           overview  \\\n",
       "0         Avatar  In the 22nd century, a paraplegic Marine is di...   \n",
       "\n",
       "   popularity                               production_companies  \\\n",
       "0  150.437577  [{\"name\": \"Ingenious Film Partners\", \"id\": 289...   \n",
       "\n",
       "                                production_countries release_date     revenue  \\\n",
       "0  [{\"iso_3166_1\": \"US\", \"name\": \"United States o...   2009-12-10  2787965087   \n",
       "\n",
       "   runtime                                   spoken_languages    status  \\\n",
       "0    162.0  [{\"iso_639_1\": \"en\", \"name\": \"English\"}, {\"iso...  Released   \n",
       "\n",
       "                       tagline   title  vote_average  vote_count  \n",
       "0  Enter the World of Pandora.  Avatar           7.2       11800  "
      ]
     },
     "execution_count": 1,
     "metadata": {},
     "output_type": "execute_result"
    }
   ],
   "source": [
    "# 2025 08 27\n",
    "# 추천 알고리즘 학습\n",
    "# 1. 컨텐츠 기반 필터링\n",
    "# 2. 협업 필터링\n",
    "\n",
    "\n",
    "# 1. 컨텐츠 기반 필터링\n",
    "import pandas as pd\n",
    "import numpy as np\n",
    "import warnings\n",
    "warnings.filterwarnings('ignore')\n",
    "\n",
    "# 캐글에서 TMDB 5000 Movie Dataset 다운로드 후 \n",
    "# C드라이브 -> 사용자 -> 사용자명 -> 현재 파일이 있는 jupyter_ex_ict05 폴더 -> data -> tmdb_5000_movies 폴더 내에 파일 넣어주기\n",
    "movies = pd.read_csv('./data/tmdb_5000_movies/tmdb_5000_movies.csv')       \n",
    "\n",
    "print(movies.shape)\n",
    "movies.head(1)"
   ]
  },
  {
   "cell_type": "code",
   "execution_count": 2,
   "id": "41ced7c2-492d-44a8-abd1-7f180181580a",
   "metadata": {},
   "outputs": [
    {
     "data": {
      "text/html": [
       "<div>\n",
       "<style scoped>\n",
       "    .dataframe tbody tr th:only-of-type {\n",
       "        vertical-align: middle;\n",
       "    }\n",
       "\n",
       "    .dataframe tbody tr th {\n",
       "        vertical-align: top;\n",
       "    }\n",
       "\n",
       "    .dataframe thead th {\n",
       "        text-align: right;\n",
       "    }\n",
       "</style>\n",
       "<table border=\"1\" class=\"dataframe\">\n",
       "  <thead>\n",
       "    <tr style=\"text-align: right;\">\n",
       "      <th></th>\n",
       "      <th>genres</th>\n",
       "      <th>keywords</th>\n",
       "    </tr>\n",
       "  </thead>\n",
       "  <tbody>\n",
       "    <tr>\n",
       "      <th>0</th>\n",
       "      <td>[{\"id\": 28, \"name\": \"Action\"}, {\"id\": 12, \"name\": \"Adventure\"}, {\"id\": 14, \"name\": \"Fantasy\"}, {...</td>\n",
       "      <td>[{\"id\": 1463, \"name\": \"culture clash\"}, {\"id\": 2964, \"name\": \"future\"}, {\"id\": 3386, \"name\": \"sp...</td>\n",
       "    </tr>\n",
       "    <tr>\n",
       "      <th>1</th>\n",
       "      <td>[{\"id\": 12, \"name\": \"Adventure\"}, {\"id\": 14, \"name\": \"Fantasy\"}, {\"id\": 28, \"name\": \"Action\"}]</td>\n",
       "      <td>[{\"id\": 270, \"name\": \"ocean\"}, {\"id\": 726, \"name\": \"drug abuse\"}, {\"id\": 911, \"name\": \"exotic is...</td>\n",
       "    </tr>\n",
       "    <tr>\n",
       "      <th>2</th>\n",
       "      <td>[{\"id\": 28, \"name\": \"Action\"}, {\"id\": 12, \"name\": \"Adventure\"}, {\"id\": 80, \"name\": \"Crime\"}]</td>\n",
       "      <td>[{\"id\": 470, \"name\": \"spy\"}, {\"id\": 818, \"name\": \"based on novel\"}, {\"id\": 4289, \"name\": \"secret...</td>\n",
       "    </tr>\n",
       "    <tr>\n",
       "      <th>3</th>\n",
       "      <td>[{\"id\": 28, \"name\": \"Action\"}, {\"id\": 80, \"name\": \"Crime\"}, {\"id\": 18, \"name\": \"Drama\"}, {\"id\": ...</td>\n",
       "      <td>[{\"id\": 849, \"name\": \"dc comics\"}, {\"id\": 853, \"name\": \"crime fighter\"}, {\"id\": 949, \"name\": \"te...</td>\n",
       "    </tr>\n",
       "    <tr>\n",
       "      <th>4</th>\n",
       "      <td>[{\"id\": 28, \"name\": \"Action\"}, {\"id\": 12, \"name\": \"Adventure\"}, {\"id\": 878, \"name\": \"Science Fic...</td>\n",
       "      <td>[{\"id\": 818, \"name\": \"based on novel\"}, {\"id\": 839, \"name\": \"mars\"}, {\"id\": 1456, \"name\": \"medal...</td>\n",
       "    </tr>\n",
       "    <tr>\n",
       "      <th>...</th>\n",
       "      <td>...</td>\n",
       "      <td>...</td>\n",
       "    </tr>\n",
       "    <tr>\n",
       "      <th>4798</th>\n",
       "      <td>[{\"id\": 28, \"name\": \"Action\"}, {\"id\": 80, \"name\": \"Crime\"}, {\"id\": 53, \"name\": \"Thriller\"}]</td>\n",
       "      <td>[{\"id\": 5616, \"name\": \"united states\\u2013mexico barrier\"}, {\"id\": 33649, \"name\": \"legs\"}, {\"id\"...</td>\n",
       "    </tr>\n",
       "    <tr>\n",
       "      <th>4799</th>\n",
       "      <td>[{\"id\": 35, \"name\": \"Comedy\"}, {\"id\": 10749, \"name\": \"Romance\"}]</td>\n",
       "      <td>[]</td>\n",
       "    </tr>\n",
       "    <tr>\n",
       "      <th>4800</th>\n",
       "      <td>[{\"id\": 35, \"name\": \"Comedy\"}, {\"id\": 18, \"name\": \"Drama\"}, {\"id\": 10749, \"name\": \"Romance\"}, {\"...</td>\n",
       "      <td>[{\"id\": 248, \"name\": \"date\"}, {\"id\": 699, \"name\": \"love at first sight\"}, {\"id\": 2398, \"name\": \"...</td>\n",
       "    </tr>\n",
       "    <tr>\n",
       "      <th>4801</th>\n",
       "      <td>[]</td>\n",
       "      <td>[]</td>\n",
       "    </tr>\n",
       "    <tr>\n",
       "      <th>4802</th>\n",
       "      <td>[{\"id\": 99, \"name\": \"Documentary\"}]</td>\n",
       "      <td>[{\"id\": 1523, \"name\": \"obsession\"}, {\"id\": 2249, \"name\": \"camcorder\"}, {\"id\": 9986, \"name\": \"cru...</td>\n",
       "    </tr>\n",
       "  </tbody>\n",
       "</table>\n",
       "<p>4803 rows × 2 columns</p>\n",
       "</div>"
      ],
      "text/plain": [
       "                                                                                                   genres  \\\n",
       "0     [{\"id\": 28, \"name\": \"Action\"}, {\"id\": 12, \"name\": \"Adventure\"}, {\"id\": 14, \"name\": \"Fantasy\"}, {...   \n",
       "1          [{\"id\": 12, \"name\": \"Adventure\"}, {\"id\": 14, \"name\": \"Fantasy\"}, {\"id\": 28, \"name\": \"Action\"}]   \n",
       "2            [{\"id\": 28, \"name\": \"Action\"}, {\"id\": 12, \"name\": \"Adventure\"}, {\"id\": 80, \"name\": \"Crime\"}]   \n",
       "3     [{\"id\": 28, \"name\": \"Action\"}, {\"id\": 80, \"name\": \"Crime\"}, {\"id\": 18, \"name\": \"Drama\"}, {\"id\": ...   \n",
       "4     [{\"id\": 28, \"name\": \"Action\"}, {\"id\": 12, \"name\": \"Adventure\"}, {\"id\": 878, \"name\": \"Science Fic...   \n",
       "...                                                                                                   ...   \n",
       "4798          [{\"id\": 28, \"name\": \"Action\"}, {\"id\": 80, \"name\": \"Crime\"}, {\"id\": 53, \"name\": \"Thriller\"}]   \n",
       "4799                                     [{\"id\": 35, \"name\": \"Comedy\"}, {\"id\": 10749, \"name\": \"Romance\"}]   \n",
       "4800  [{\"id\": 35, \"name\": \"Comedy\"}, {\"id\": 18, \"name\": \"Drama\"}, {\"id\": 10749, \"name\": \"Romance\"}, {\"...   \n",
       "4801                                                                                                   []   \n",
       "4802                                                                  [{\"id\": 99, \"name\": \"Documentary\"}]   \n",
       "\n",
       "                                                                                                 keywords  \n",
       "0     [{\"id\": 1463, \"name\": \"culture clash\"}, {\"id\": 2964, \"name\": \"future\"}, {\"id\": 3386, \"name\": \"sp...  \n",
       "1     [{\"id\": 270, \"name\": \"ocean\"}, {\"id\": 726, \"name\": \"drug abuse\"}, {\"id\": 911, \"name\": \"exotic is...  \n",
       "2     [{\"id\": 470, \"name\": \"spy\"}, {\"id\": 818, \"name\": \"based on novel\"}, {\"id\": 4289, \"name\": \"secret...  \n",
       "3     [{\"id\": 849, \"name\": \"dc comics\"}, {\"id\": 853, \"name\": \"crime fighter\"}, {\"id\": 949, \"name\": \"te...  \n",
       "4     [{\"id\": 818, \"name\": \"based on novel\"}, {\"id\": 839, \"name\": \"mars\"}, {\"id\": 1456, \"name\": \"medal...  \n",
       "...                                                                                                   ...  \n",
       "4798  [{\"id\": 5616, \"name\": \"united states\\u2013mexico barrier\"}, {\"id\": 33649, \"name\": \"legs\"}, {\"id\"...  \n",
       "4799                                                                                                   []  \n",
       "4800  [{\"id\": 248, \"name\": \"date\"}, {\"id\": 699, \"name\": \"love at first sight\"}, {\"id\": 2398, \"name\": \"...  \n",
       "4801                                                                                                   []  \n",
       "4802  [{\"id\": 1523, \"name\": \"obsession\"}, {\"id\": 2249, \"name\": \"camcorder\"}, {\"id\": 9986, \"name\": \"cru...  \n",
       "\n",
       "[4803 rows x 2 columns]"
      ]
     },
     "execution_count": 2,
     "metadata": {},
     "output_type": "execute_result"
    }
   ],
   "source": [
    "# 데이터 프레임 만들기\n",
    "\n",
    "# 가져온 movies에서 id와 각 컬럼들을 추출해 담는다\n",
    "movies_df = movies[['id', 'title', 'genres', 'vote_average','vote_count', 'popularity', 'overview', 'keywords']]\n",
    "\n",
    "pd.set_option('max_colwidth', 100)\n",
    "movies_df[['genres', 'keywords'][ : 2]]       # 장르와 키워드만 가져오기 (2열로)  모든행의 2열까지 가져옴"
   ]
  },
  {
   "cell_type": "code",
   "execution_count": 3,
   "id": "84d0e548-8c3f-4556-a369-51a0c92fe243",
   "metadata": {},
   "outputs": [
    {
     "name": "stdout",
     "output_type": "stream",
     "text": [
      "<class 'pandas.core.frame.DataFrame'>\n",
      "RangeIndex: 4803 entries, 0 to 4802\n",
      "Data columns (total 8 columns):\n",
      " #   Column        Non-Null Count  Dtype  \n",
      "---  ------        --------------  -----  \n",
      " 0   id            4803 non-null   int64  \n",
      " 1   title         4803 non-null   object \n",
      " 2   genres        4803 non-null   object \n",
      " 3   vote_average  4803 non-null   float64\n",
      " 4   vote_count    4803 non-null   int64  \n",
      " 5   popularity    4803 non-null   float64\n",
      " 6   overview      4800 non-null   object \n",
      " 7   keywords      4803 non-null   object \n",
      "dtypes: float64(2), int64(2), object(4)\n",
      "memory usage: 300.3+ KB\n"
     ]
    }
   ],
   "source": [
    "movies_df.info()"
   ]
  },
  {
   "cell_type": "code",
   "execution_count": 4,
   "id": "21703077-7684-48f4-a5a2-e768eef9b982",
   "metadata": {},
   "outputs": [],
   "source": [
    "# 텍스트 문자 1차 가공, 파이썬 딕셔너리로 변환 후 리스트 형태로 변환!"
   ]
  },
  {
   "cell_type": "code",
   "execution_count": 5,
   "id": "4dabe8d6-20a4-488e-b9ab-ce078f4346a1",
   "metadata": {},
   "outputs": [],
   "source": [
    "from ast import literal_eval      # ast : 징르를 파싱(문자를 가공)해서 파이썬 객체를 만들기 위함\n",
    "\n",
    "movies_df['genres'] = movies_df['genres'].apply(literal_eval)           # 장르 읽어와 파싱 후 다시 넣어줌\n",
    "movies_df['keywords'] = movies_df['keywords'].apply(literal_eval)       # 키워드 읽어와 파싱 후 다시 넣어줌\n"
   ]
  },
  {
   "cell_type": "code",
   "execution_count": 6,
   "id": "12a174a0-c78f-4c8e-a0c7-3f3feb0a1430",
   "metadata": {},
   "outputs": [
    {
     "data": {
      "text/plain": [
       "0    [{'id': 28, 'name': 'Action'}, {'id': 12, 'name': 'Adventure'}, {'id': 14, 'name': 'Fantasy'}, {...\n",
       "Name: genres, dtype: object"
      ]
     },
     "execution_count": 6,
     "metadata": {},
     "output_type": "execute_result"
    }
   ],
   "source": [
    "movies_df['genres'].head(1)"
   ]
  },
  {
   "cell_type": "code",
   "execution_count": 7,
   "id": "43da71f8-6ded-4cc3-9f58-f5ecf2050ac6",
   "metadata": {},
   "outputs": [
    {
     "data": {
      "text/html": [
       "<div>\n",
       "<style scoped>\n",
       "    .dataframe tbody tr th:only-of-type {\n",
       "        vertical-align: middle;\n",
       "    }\n",
       "\n",
       "    .dataframe tbody tr th {\n",
       "        vertical-align: top;\n",
       "    }\n",
       "\n",
       "    .dataframe thead th {\n",
       "        text-align: right;\n",
       "    }\n",
       "</style>\n",
       "<table border=\"1\" class=\"dataframe\">\n",
       "  <thead>\n",
       "    <tr style=\"text-align: right;\">\n",
       "      <th></th>\n",
       "      <th>genres</th>\n",
       "      <th>keywords</th>\n",
       "    </tr>\n",
       "  </thead>\n",
       "  <tbody>\n",
       "    <tr>\n",
       "      <th>0</th>\n",
       "      <td>[Action, Adventure, Fantasy, Science Fiction]</td>\n",
       "      <td>[culture clash, future, space war, space colony, society, space travel, futuristic, romance, spa...</td>\n",
       "    </tr>\n",
       "    <tr>\n",
       "      <th>1</th>\n",
       "      <td>[Adventure, Fantasy, Action]</td>\n",
       "      <td>[ocean, drug abuse, exotic island, east india trading company, love of one's life, traitor, ship...</td>\n",
       "    </tr>\n",
       "    <tr>\n",
       "      <th>2</th>\n",
       "      <td>[Action, Adventure, Crime]</td>\n",
       "      <td>[spy, based on novel, secret agent, sequel, mi6, british secret service, united kingdom]</td>\n",
       "    </tr>\n",
       "    <tr>\n",
       "      <th>3</th>\n",
       "      <td>[Action, Crime, Drama, Thriller]</td>\n",
       "      <td>[dc comics, crime fighter, terrorist, secret identity, burglar, hostage drama, time bomb, gotham...</td>\n",
       "    </tr>\n",
       "    <tr>\n",
       "      <th>4</th>\n",
       "      <td>[Action, Adventure, Science Fiction]</td>\n",
       "      <td>[based on novel, mars, medallion, space travel, princess, alien, steampunk, martian, escape, edg...</td>\n",
       "    </tr>\n",
       "    <tr>\n",
       "      <th>...</th>\n",
       "      <td>...</td>\n",
       "      <td>...</td>\n",
       "    </tr>\n",
       "    <tr>\n",
       "      <th>4798</th>\n",
       "      <td>[Action, Crime, Thriller]</td>\n",
       "      <td>[united states–mexico barrier, legs, arms, paper knife, guitar case]</td>\n",
       "    </tr>\n",
       "    <tr>\n",
       "      <th>4799</th>\n",
       "      <td>[Comedy, Romance]</td>\n",
       "      <td>[]</td>\n",
       "    </tr>\n",
       "    <tr>\n",
       "      <th>4800</th>\n",
       "      <td>[Comedy, Drama, Romance, TV Movie]</td>\n",
       "      <td>[date, love at first sight, narration, investigation, team, postal worker]</td>\n",
       "    </tr>\n",
       "    <tr>\n",
       "      <th>4801</th>\n",
       "      <td>[]</td>\n",
       "      <td>[]</td>\n",
       "    </tr>\n",
       "    <tr>\n",
       "      <th>4802</th>\n",
       "      <td>[Documentary]</td>\n",
       "      <td>[obsession, camcorder, crush, dream girl]</td>\n",
       "    </tr>\n",
       "  </tbody>\n",
       "</table>\n",
       "<p>4803 rows × 2 columns</p>\n",
       "</div>"
      ],
      "text/plain": [
       "                                             genres  \\\n",
       "0     [Action, Adventure, Fantasy, Science Fiction]   \n",
       "1                      [Adventure, Fantasy, Action]   \n",
       "2                        [Action, Adventure, Crime]   \n",
       "3                  [Action, Crime, Drama, Thriller]   \n",
       "4              [Action, Adventure, Science Fiction]   \n",
       "...                                             ...   \n",
       "4798                      [Action, Crime, Thriller]   \n",
       "4799                              [Comedy, Romance]   \n",
       "4800             [Comedy, Drama, Romance, TV Movie]   \n",
       "4801                                             []   \n",
       "4802                                  [Documentary]   \n",
       "\n",
       "                                                                                                 keywords  \n",
       "0     [culture clash, future, space war, space colony, society, space travel, futuristic, romance, spa...  \n",
       "1     [ocean, drug abuse, exotic island, east india trading company, love of one's life, traitor, ship...  \n",
       "2                [spy, based on novel, secret agent, sequel, mi6, british secret service, united kingdom]  \n",
       "3     [dc comics, crime fighter, terrorist, secret identity, burglar, hostage drama, time bomb, gotham...  \n",
       "4     [based on novel, mars, medallion, space travel, princess, alien, steampunk, martian, escape, edg...  \n",
       "...                                                                                                   ...  \n",
       "4798                                 [united states–mexico barrier, legs, arms, paper knife, guitar case]  \n",
       "4799                                                                                                   []  \n",
       "4800                           [date, love at first sight, narration, investigation, team, postal worker]  \n",
       "4801                                                                                                   []  \n",
       "4802                                                            [obsession, camcorder, crush, dream girl]  \n",
       "\n",
       "[4803 rows x 2 columns]"
      ]
     },
     "execution_count": 7,
     "metadata": {},
     "output_type": "execute_result"
    }
   ],
   "source": [
    "# 각 딕셔너리 Key 중, 'name'의 value 값 가져오기\n",
    "\n",
    "# apply(lambda)를 적용하면 해당 값을 모두 가져온다\n",
    "# --> id는 제외한 name만 가져온다 \n",
    "movies_df['genres'] = movies_df['genres'].apply(lambda x : [y['name'] for y in x])\n",
    "\n",
    "# 키워드도 가져오기\n",
    "movies_df['keywords'] = movies_df['keywords'].apply(lambda x : [y['name'] for y in x])\n",
    "\n",
    "\n",
    "# 출력\n",
    "movies_df[['genres', 'keywords'][ : 2]]   # 대괄호로 한 번 더 감싸주는것 중요! (아닐 시, 리스트로 인식)"
   ]
  },
  {
   "cell_type": "code",
   "execution_count": 10,
   "id": "9427cc45-0d22-4a65-8daf-ccad22e8cbc7",
   "metadata": {},
   "outputs": [
    {
     "data": {
      "text/plain": [
       "0    [Action, Adventure, Fantasy, Science Fiction]\n",
       "Name: genres, dtype: object"
      ]
     },
     "execution_count": 10,
     "metadata": {},
     "output_type": "execute_result"
    }
   ],
   "source": [
    "movies_df['genres'].head(1)"
   ]
  },
  {
   "cell_type": "code",
   "execution_count": 11,
   "id": "65af7636-c260-406c-8425-2fdf961afac7",
   "metadata": {},
   "outputs": [
    {
     "data": {
      "text/plain": [
       "0    [culture clash, future, space war, space colony, society, space travel, futuristic, romance, spa...\n",
       "Name: keywords, dtype: object"
      ]
     },
     "execution_count": 11,
     "metadata": {},
     "output_type": "execute_result"
    }
   ],
   "source": [
    "movies_df['keywords'].head(1)"
   ]
  },
  {
   "cell_type": "code",
   "execution_count": 12,
   "id": "bd663f82-875f-48d2-aa2e-7c79bf591580",
   "metadata": {},
   "outputs": [],
   "source": [
    "### 장르 컨텐츠 필터링을 이용한 영화 추천\n",
    "\n",
    "# 장르 문자열을 Count 벡터화 후\n",
    "# 코사인 유사도로 각 영화를 비교\n",
    "\n",
    "# [ 컨텐츠 기반 필터링 프로세스 ]"
   ]
  },
  {
   "cell_type": "code",
   "execution_count": 13,
   "id": "930dfd0d-c8a2-4b70-977b-30ad3a418b7f",
   "metadata": {},
   "outputs": [],
   "source": [
    "# 1. 장르 문자열의 Count 기반 Feature 벡터화\n",
    "# 2-1. 장르에 따른 영화별 코사인 유사도 추출\n",
    "# 2-2. 특정 영화와 장르별 유사도가 높은 영화를 반환하는 함수 생성\n",
    "# 3. 컨텐츠별로 가중 평점을 계산"
   ]
  },
  {
   "cell_type": "code",
   "execution_count": 15,
   "id": "cfe6bf84-5a9f-4ef9-9ab5-5db3cffbb33d",
   "metadata": {},
   "outputs": [
    {
     "name": "stdout",
     "output_type": "stream",
     "text": [
      "1.6.1\n",
      "3.13.5 | packaged by Anaconda, Inc. | (main, Jun 12 2025, 16:37:03) [MSC v.1929 64 bit (AMD64)]\n"
     ]
    }
   ],
   "source": [
    "# 1. 장르 문자열의 Count 기반 Feature 벡터화\n",
    "import sklearn\n",
    "import sys\n",
    "\n",
    "print(sklearn.__version__)\n",
    "print(sys.version)\n",
    "\n",
    "# --------\n",
    "# 1.6.1\n",
    "# 3.13.5 | packaged by Anaconda, Inc. | (main, Jun 12 2025, 16:37:03) [MSC v.1929 64 bit (AMD64)]"
   ]
  },
  {
   "cell_type": "code",
   "execution_count": 19,
   "id": "0d4231d9-56bf-41d1-a8ce-8728e631dff3",
   "metadata": {},
   "outputs": [
    {
     "name": "stdout",
     "output_type": "stream",
     "text": [
      "(4803, 276)\n"
     ]
    }
   ],
   "source": [
    "from sklearn.feature_extraction.text import CountVectorizer\n",
    "# CountVectorizer : 텍스트 데이터에서 횟수를 기준으로 특징을 추출하는 방법\n",
    "# 어떤 단위(단어, 문자) 등의 횟수를 셀 것인지는 선택사항이다\n",
    "\n",
    "# 이 모듈을 사용하려면 먼저 객체를 만들고, 만들어진 객체에 특정 텍스트 데이터에서 횟수를 셀 단어의 목록 만들기\n",
    "# CountVectorizer를 적용하기 위해 공백문자로 word 단어가 구분되는 문자열로 변환한다\n",
    "\n",
    "movies_df['genres_literal'] = movies_df['genres'].apply(lambda x : ('  ').join(x))      # 가져온 값에 join을 해서 x 값을 가져온다\n",
    "# genres라는 컬럼이 '리스트'이므로 공백('  ')과 조인을 해서, String으로 변환\n",
    "count_vect = CountVectorizer(min_df=0.0, ngram_range=(1,2))\n",
    "genre_mat = count_vect.fit_transform(movies_df['genres_literal'])\n",
    "\n",
    "\n",
    "# 영화 건수, 컬럼 갯수\n",
    "print(genre_mat.shape)\n",
    "# (4803, 276)"
   ]
  },
  {
   "cell_type": "code",
   "execution_count": 20,
   "id": "1ea22b3a-699f-4451-9b06-155ac7eb690e",
   "metadata": {},
   "outputs": [],
   "source": [
    "# 2-1. 장르에 따른 영화별 코사인 유사도 추출"
   ]
  },
  {
   "cell_type": "code",
   "execution_count": 21,
   "id": "80404060-2619-4f4d-a054-3001d8e8bc35",
   "metadata": {},
   "outputs": [
    {
     "name": "stdout",
     "output_type": "stream",
     "text": [
      "(4803, 4803)\n",
      "[[1.         0.59628479 0.4472136  ... 0.         0.         0.        ]\n",
      " [0.59628479 1.         0.4        ... 0.         0.         0.        ]]\n"
     ]
    }
   ],
   "source": [
    "from sklearn.metrics.pairwise import cosine_similarity\n",
    "\n",
    "genre_sim = cosine_similarity(genre_mat, genre_mat)\n",
    "print(genre_sim.shape)         # (4803, 4803)\n",
    "print(genre_sim[ : 2])\n",
    "# [[1.         0.59628479 0.4472136  ... 0.         0.         0.        ]\n",
    "# [0.59628479 1.         0.4        ... 0.         0.         0.        ]]"
   ]
  },
  {
   "cell_type": "code",
   "execution_count": 22,
   "id": "5f577376-c6f0-47ee-976e-7cd3dedb8c25",
   "metadata": {},
   "outputs": [
    {
     "name": "stdout",
     "output_type": "stream",
     "text": [
      "[[   0   46 3494 ... 3600 3569 4799]]\n"
     ]
    }
   ],
   "source": [
    "genre_sim_sorted_ind = genre_sim.argsort()[ : , ::-1]      # 모든 행, 모든 열에 대해서 내림차순(-1) 정렬\n",
    "print(genre_sim_sorted_ind[ : 1])\n",
    "\n",
    "# [[   0   46 3494 ... 3600 3569 4799]]"
   ]
  },
  {
   "cell_type": "code",
   "execution_count": 23,
   "id": "de6fde72-a1de-4600-bf81-48c3f88e409a",
   "metadata": {},
   "outputs": [],
   "source": [
    "# 2-2. 특정 영화와 장르별 유사도가 높은 영화를 반환하는 함수 생성"
   ]
  },
  {
   "cell_type": "code",
   "execution_count": 27,
   "id": "9e684cc8-abfe-4d6b-b62b-a88b6de1dae4",
   "metadata": {},
   "outputs": [],
   "source": [
    "# title_name : 사용자 선호영화 제목  top_n 상위 10개 가져오기   \n",
    "# ==> 사용자 선호 영화와 유사한 영화 10개 추천\n",
    "def find_sim_movie(df, sorted_ind, title_name, top_n=10):\n",
    "    # csv에서 받아온 데이터프레임의 'title' 컬럼명과 인자로 넘겨받은 'title_name'의 값이 같은지 비교 후 추출\n",
    "    title_movie = df[df['title'] == title_name]           \n",
    "    # title_name을 가진 DataFrame의 index 반환\n",
    "    title_index = title_movie.index.values\n",
    "    # sorted_ind에 함수호출시 받아온 인자(sorted_ind) 값을 넣어주고 유사한 10개 반환\n",
    "    similar_indexes = sorted_ind[title_index, :(top_n)]         # [선호영화인덱스, : 10개 가져오기]\n",
    "    \n",
    "    print(similar_indexes)\n",
    "\n",
    "    # DataFrame에서 index로 사용하기 위해 1차원 array로 변경\n",
    "    similar_indexes = similar_indexes.reshape(-1)\n",
    "\n",
    "    # 리턴 (loc이 아닌, iloc인 이유  : 정수이므로) \n",
    "    return df.iloc[similar_indexes]     "
   ]
  },
  {
   "cell_type": "code",
   "execution_count": 30,
   "id": "98794bf1-d15e-4afc-bcb0-b1988631760b",
   "metadata": {},
   "outputs": [
    {
     "name": "stdout",
     "output_type": "stream",
     "text": [
      "[[1881 3378 3866 1370 1464  588 3887 3594 2839  892]]\n"
     ]
    },
    {
     "data": {
      "text/html": [
       "<div>\n",
       "<style scoped>\n",
       "    .dataframe tbody tr th:only-of-type {\n",
       "        vertical-align: middle;\n",
       "    }\n",
       "\n",
       "    .dataframe tbody tr th {\n",
       "        vertical-align: top;\n",
       "    }\n",
       "\n",
       "    .dataframe thead th {\n",
       "        text-align: right;\n",
       "    }\n",
       "</style>\n",
       "<table border=\"1\" class=\"dataframe\">\n",
       "  <thead>\n",
       "    <tr style=\"text-align: right;\">\n",
       "      <th></th>\n",
       "      <th>title</th>\n",
       "      <th>vote_average</th>\n",
       "    </tr>\n",
       "  </thead>\n",
       "  <tbody>\n",
       "    <tr>\n",
       "      <th>1881</th>\n",
       "      <td>The Shawshank Redemption</td>\n",
       "      <td>8.5</td>\n",
       "    </tr>\n",
       "    <tr>\n",
       "      <th>3378</th>\n",
       "      <td>Auto Focus</td>\n",
       "      <td>6.1</td>\n",
       "    </tr>\n",
       "    <tr>\n",
       "      <th>3866</th>\n",
       "      <td>City of God</td>\n",
       "      <td>8.1</td>\n",
       "    </tr>\n",
       "    <tr>\n",
       "      <th>1370</th>\n",
       "      <td>21</td>\n",
       "      <td>6.5</td>\n",
       "    </tr>\n",
       "    <tr>\n",
       "      <th>1464</th>\n",
       "      <td>Black Water Transit</td>\n",
       "      <td>0.0</td>\n",
       "    </tr>\n",
       "    <tr>\n",
       "      <th>588</th>\n",
       "      <td>Wall Street: Money Never Sleeps</td>\n",
       "      <td>5.8</td>\n",
       "    </tr>\n",
       "    <tr>\n",
       "      <th>3887</th>\n",
       "      <td>Trainspotting</td>\n",
       "      <td>7.8</td>\n",
       "    </tr>\n",
       "    <tr>\n",
       "      <th>3594</th>\n",
       "      <td>Spring Breakers</td>\n",
       "      <td>5.0</td>\n",
       "    </tr>\n",
       "    <tr>\n",
       "      <th>2839</th>\n",
       "      <td>Rounders</td>\n",
       "      <td>6.9</td>\n",
       "    </tr>\n",
       "    <tr>\n",
       "      <th>892</th>\n",
       "      <td>Casino</td>\n",
       "      <td>7.8</td>\n",
       "    </tr>\n",
       "  </tbody>\n",
       "</table>\n",
       "</div>"
      ],
      "text/plain": [
       "                                title  vote_average\n",
       "1881         The Shawshank Redemption           8.5\n",
       "3378                       Auto Focus           6.1\n",
       "3866                      City of God           8.1\n",
       "1370                               21           6.5\n",
       "1464              Black Water Transit           0.0\n",
       "588   Wall Street: Money Never Sleeps           5.8\n",
       "3887                    Trainspotting           7.8\n",
       "3594                  Spring Breakers           5.0\n",
       "2839                         Rounders           6.9\n",
       "892                            Casino           7.8"
      ]
     },
     "execution_count": 30,
     "metadata": {},
     "output_type": "execute_result"
    }
   ],
   "source": [
    "# 함수 호출\n",
    "similar_movies = find_sim_movie(movies_df, genre_sim_sorted_ind, 'The Godfather', top_n=10)\n",
    "\n",
    "# [[1881 3378 3866 1370 1464  588 3887 3594 2839  892]]\n",
    "# similar_indexes 출력한 것\n",
    "\n",
    "similar_movies[['title', 'vote_average']]      # 제목과 평점평균\n",
    "# vote_average 안 나올 경우, 맨 위 movies_df 필터 누락한건 아닌지 확인\n",
    "# 0.0인 영화 Mi America가 중간에 있음. 추천 안 하는게 좋다. 마케팅 홍보시 무조건 장르가 유사하다고 추천하는 것보다, 유사한 장르에서 평점이 높은 순인게 좋다"
   ]
  },
  {
   "cell_type": "code",
   "execution_count": 31,
   "id": "a67c4950-a5ed-494f-a827-58cf2570a359",
   "metadata": {},
   "outputs": [],
   "source": [
    "# 유사한 장르이면서 평점이 높은 영화 정보를 확인"
   ]
  },
  {
   "cell_type": "code",
   "execution_count": 32,
   "id": "955f356f-c1a2-40cb-9ce3-397494c17f56",
   "metadata": {},
   "outputs": [
    {
     "data": {
      "text/html": [
       "<div>\n",
       "<style scoped>\n",
       "    .dataframe tbody tr th:only-of-type {\n",
       "        vertical-align: middle;\n",
       "    }\n",
       "\n",
       "    .dataframe tbody tr th {\n",
       "        vertical-align: top;\n",
       "    }\n",
       "\n",
       "    .dataframe thead th {\n",
       "        text-align: right;\n",
       "    }\n",
       "</style>\n",
       "<table border=\"1\" class=\"dataframe\">\n",
       "  <thead>\n",
       "    <tr style=\"text-align: right;\">\n",
       "      <th></th>\n",
       "      <th>title</th>\n",
       "      <th>vote_average</th>\n",
       "      <th>vote_count</th>\n",
       "    </tr>\n",
       "  </thead>\n",
       "  <tbody>\n",
       "    <tr>\n",
       "      <th>4662</th>\n",
       "      <td>Little Big Top</td>\n",
       "      <td>10.0</td>\n",
       "      <td>1</td>\n",
       "    </tr>\n",
       "    <tr>\n",
       "      <th>3519</th>\n",
       "      <td>Stiff Upper Lips</td>\n",
       "      <td>10.0</td>\n",
       "      <td>1</td>\n",
       "    </tr>\n",
       "    <tr>\n",
       "      <th>4045</th>\n",
       "      <td>Dancer, Texas Pop. 81</td>\n",
       "      <td>10.0</td>\n",
       "      <td>1</td>\n",
       "    </tr>\n",
       "    <tr>\n",
       "      <th>4247</th>\n",
       "      <td>Me You and Five Bucks</td>\n",
       "      <td>10.0</td>\n",
       "      <td>2</td>\n",
       "    </tr>\n",
       "    <tr>\n",
       "      <th>3992</th>\n",
       "      <td>Sardaarji</td>\n",
       "      <td>9.5</td>\n",
       "      <td>2</td>\n",
       "    </tr>\n",
       "    <tr>\n",
       "      <th>2386</th>\n",
       "      <td>One Man's Hero</td>\n",
       "      <td>9.3</td>\n",
       "      <td>2</td>\n",
       "    </tr>\n",
       "    <tr>\n",
       "      <th>1881</th>\n",
       "      <td>The Shawshank Redemption</td>\n",
       "      <td>8.5</td>\n",
       "      <td>8205</td>\n",
       "    </tr>\n",
       "    <tr>\n",
       "      <th>2970</th>\n",
       "      <td>There Goes My Baby</td>\n",
       "      <td>8.5</td>\n",
       "      <td>2</td>\n",
       "    </tr>\n",
       "    <tr>\n",
       "      <th>3337</th>\n",
       "      <td>The Godfather</td>\n",
       "      <td>8.4</td>\n",
       "      <td>5893</td>\n",
       "    </tr>\n",
       "    <tr>\n",
       "      <th>2796</th>\n",
       "      <td>The Prisoner of Zenda</td>\n",
       "      <td>8.4</td>\n",
       "      <td>11</td>\n",
       "    </tr>\n",
       "  </tbody>\n",
       "</table>\n",
       "</div>"
      ],
      "text/plain": [
       "                         title  vote_average  vote_count\n",
       "4662            Little Big Top          10.0           1\n",
       "3519          Stiff Upper Lips          10.0           1\n",
       "4045     Dancer, Texas Pop. 81          10.0           1\n",
       "4247     Me You and Five Bucks          10.0           2\n",
       "3992                 Sardaarji           9.5           2\n",
       "2386            One Man's Hero           9.3           2\n",
       "1881  The Shawshank Redemption           8.5        8205\n",
       "2970        There Goes My Baby           8.5           2\n",
       "3337             The Godfather           8.4        5893\n",
       "2796     The Prisoner of Zenda           8.4          11"
      ]
     },
     "execution_count": 32,
     "metadata": {},
     "output_type": "execute_result"
    }
   ],
   "source": [
    "movies_df[['title', 'vote_average', 'vote_count']].sort_values('vote_average', ascending=False)[ : 10]\n",
    "# 평점은 좀 낮지만, 투표횟수가 높은 것이 아래임\n",
    "# 평점만 따지지 않고 투표횟수까지 높은 것을 뽑는 것이 좋음."
   ]
  },
  {
   "cell_type": "code",
   "execution_count": 33,
   "id": "341d711a-d7ac-4122-8571-cd1e05dcd35d",
   "metadata": {},
   "outputs": [],
   "source": [
    "# 3. 컨텐츠별로 가중 평점을 계산\n",
    "# 평가 횟수에 대한 가중치가 부여된 평점 계산\n",
    "# 가중 평점(Weighted Rating) = (v/(v+m)) * R + (m/(v+m)) * C"
   ]
  },
  {
   "cell_type": "code",
   "execution_count": 34,
   "id": "8c5cac0a-b0f9-43cb-98e4-e0e0b462f875",
   "metadata": {},
   "outputs": [],
   "source": [
    "# ■ v: 개별 영화에 평점을 투표한 횟수 ■ m: 평점을 부여하기 위한 최소 투표 횟수 ■ R: 개별 영화에 대한 평균 평점. ■ C: 전체 영화에 대한 평균 평점"
   ]
  },
  {
   "cell_type": "code",
   "execution_count": 36,
   "id": "81b98b52-28d5-4343-bf44-b962545a9823",
   "metadata": {},
   "outputs": [
    {
     "name": "stdout",
     "output_type": "stream",
     "text": [
      "C : 6.092 m : 370.2\n"
     ]
    }
   ],
   "source": [
    "# 확인용\n",
    "C = movies_df['vote_average'].mean()    # C 대문자\n",
    "m = movies_df['vote_count'].quantile(0.6)    # 최소 투표횟수 (60%)  - 상위\n",
    "print('C :', round(C, 3), 'm :' , round(m, 3))\n",
    "\n",
    "# C : 6.092 m : 370.2"
   ]
  },
  {
   "cell_type": "code",
   "execution_count": 41,
   "id": "3a42291d-b23d-4a3e-ae28-a9f63bb0b75b",
   "metadata": {},
   "outputs": [],
   "source": [
    "percentile = 0.6\n",
    "\n",
    "C = movies_df['vote_average'].mean()    # C 대문자\n",
    "m = movies_df['vote_count'].quantile(0.6)    # 최소 투표횟수 (60%)  - 상위\n",
    "\n",
    "def weighted_vote_average(record):      # 가중 평점 구하기\n",
    "    v = record['vote_count']      # v 소문자\n",
    "    R = record['vote_average']    # R 대문자\n",
    "    \n",
    "    # 가중 평점(Weighted Rating) = (v/(v+m)) * R + (m/(v+m)) * C\n",
    "    return (v/(v+m)) * R + (m/(v+m)) * C       # 가중평점 리턴\n",
    "\n",
    "movies_df['weighted_vote'] = movies_df.apply(weighted_vote_average, axis=1)\n",
    "    "
   ]
  },
  {
   "cell_type": "code",
   "execution_count": 42,
   "id": "7a74e967-4199-49cb-a5bf-cace03fb383b",
   "metadata": {},
   "outputs": [
    {
     "data": {
      "text/html": [
       "<div>\n",
       "<style scoped>\n",
       "    .dataframe tbody tr th:only-of-type {\n",
       "        vertical-align: middle;\n",
       "    }\n",
       "\n",
       "    .dataframe tbody tr th {\n",
       "        vertical-align: top;\n",
       "    }\n",
       "\n",
       "    .dataframe thead th {\n",
       "        text-align: right;\n",
       "    }\n",
       "</style>\n",
       "<table border=\"1\" class=\"dataframe\">\n",
       "  <thead>\n",
       "    <tr style=\"text-align: right;\">\n",
       "      <th></th>\n",
       "      <th>title</th>\n",
       "      <th>vote_average</th>\n",
       "      <th>vote_count</th>\n",
       "      <th>weighted_vote</th>\n",
       "    </tr>\n",
       "  </thead>\n",
       "  <tbody>\n",
       "    <tr>\n",
       "      <th>1881</th>\n",
       "      <td>The Shawshank Redemption</td>\n",
       "      <td>8.5</td>\n",
       "      <td>8205</td>\n",
       "      <td>8.396052</td>\n",
       "    </tr>\n",
       "    <tr>\n",
       "      <th>3337</th>\n",
       "      <td>The Godfather</td>\n",
       "      <td>8.4</td>\n",
       "      <td>5893</td>\n",
       "      <td>8.263591</td>\n",
       "    </tr>\n",
       "    <tr>\n",
       "      <th>662</th>\n",
       "      <td>Fight Club</td>\n",
       "      <td>8.3</td>\n",
       "      <td>9413</td>\n",
       "      <td>8.216455</td>\n",
       "    </tr>\n",
       "    <tr>\n",
       "      <th>3232</th>\n",
       "      <td>Pulp Fiction</td>\n",
       "      <td>8.3</td>\n",
       "      <td>8428</td>\n",
       "      <td>8.207102</td>\n",
       "    </tr>\n",
       "    <tr>\n",
       "      <th>65</th>\n",
       "      <td>The Dark Knight</td>\n",
       "      <td>8.2</td>\n",
       "      <td>12002</td>\n",
       "      <td>8.136930</td>\n",
       "    </tr>\n",
       "    <tr>\n",
       "      <th>1818</th>\n",
       "      <td>Schindler's List</td>\n",
       "      <td>8.3</td>\n",
       "      <td>4329</td>\n",
       "      <td>8.126069</td>\n",
       "    </tr>\n",
       "    <tr>\n",
       "      <th>3865</th>\n",
       "      <td>Whiplash</td>\n",
       "      <td>8.3</td>\n",
       "      <td>4254</td>\n",
       "      <td>8.123248</td>\n",
       "    </tr>\n",
       "    <tr>\n",
       "      <th>809</th>\n",
       "      <td>Forrest Gump</td>\n",
       "      <td>8.2</td>\n",
       "      <td>7927</td>\n",
       "      <td>8.105954</td>\n",
       "    </tr>\n",
       "    <tr>\n",
       "      <th>2294</th>\n",
       "      <td>Spirited Away</td>\n",
       "      <td>8.3</td>\n",
       "      <td>3840</td>\n",
       "      <td>8.105867</td>\n",
       "    </tr>\n",
       "    <tr>\n",
       "      <th>2731</th>\n",
       "      <td>The Godfather: Part II</td>\n",
       "      <td>8.3</td>\n",
       "      <td>3338</td>\n",
       "      <td>8.079586</td>\n",
       "    </tr>\n",
       "  </tbody>\n",
       "</table>\n",
       "</div>"
      ],
      "text/plain": [
       "                         title  vote_average  vote_count  weighted_vote\n",
       "1881  The Shawshank Redemption           8.5        8205       8.396052\n",
       "3337             The Godfather           8.4        5893       8.263591\n",
       "662                 Fight Club           8.3        9413       8.216455\n",
       "3232              Pulp Fiction           8.3        8428       8.207102\n",
       "65             The Dark Knight           8.2       12002       8.136930\n",
       "1818          Schindler's List           8.3        4329       8.126069\n",
       "3865                  Whiplash           8.3        4254       8.123248\n",
       "809               Forrest Gump           8.2        7927       8.105954\n",
       "2294             Spirited Away           8.3        3840       8.105867\n",
       "2731    The Godfather: Part II           8.3        3338       8.079586"
      ]
     },
     "execution_count": 42,
     "metadata": {},
     "output_type": "execute_result"
    }
   ],
   "source": [
    "movies_df[['title', 'vote_average', 'vote_count', 'weighted_vote']].sort_values('weighted_vote', ascending=False)[ : 10]\n",
    "\n",
    "\n",
    "# 투표횟수 + 평점평균이 많은 데이터가 위로 올라감\n",
    "\n",
    "#          title\t          vote_average\tvote_count\t weighted_vote\n",
    "# 1881\tThe Shawshank Redemption\t8.5\t     8205\t      8.396052\n",
    "# 3337\tThe Godfather\t            8.4\t     5893\t      8.263591\n",
    "\n",
    "# 가중치를 적용하면, 유사도가 낮더라도 평점순으로 정렬되므로 사용자에게 좋은 추천이 될 수 있음."
   ]
  },
  {
   "cell_type": "code",
   "execution_count": null,
   "id": "ad779ebe-7a6a-42d0-952c-d14e5648120e",
   "metadata": {},
   "outputs": [],
   "source": [
    "def find_sim_movie(df, sorted_ind, title_name, top_n=10):\n",
    "    # csv에서 받아온 데이터프레임의 'title' 컬럼명과 인자로 넘겨받은 'title_name'의 값이 같은지 비교 후 추출\n",
    "    title_movie = df[df['title'] == title_name]           \n",
    "    # title_name을 가진 DataFrame의 index 반환\n",
    "    title_index = title_movie.index.values\n",
    "    # top_n개의 2배에 해당하는 장르 유사성이 높은 index 추출\n",
    "    similar_indexes = sorted_ind[title_index, :(top_n*2)]        \n",
    "    \n",
    "    print(similar_indexes)\n",
    "\n",
    "    # DataFrame에서 index로 사용하기 위해 1차원 array로 변경\n",
    "    similar_indexes = similar_indexes.reshape(-1)\n",
    "\n",
    "    # 기존 선호 영화 index는 제외\n",
    "    similar_indexes = similar_indexes[similar_indexes != title_index]\n",
    "    \n",
    "    # top_n의 2배에 해당하는 후보군에서 weighted_vote, 즉 평점이 높은 순으로 top_n만큼 추출\n",
    "    return df.iloc[similar_indexes].work_values('weighted_vote', ascending=False)[ : top_n]"
   ]
  }
 ],
 "metadata": {
  "kernelspec": {
   "display_name": "Python [conda env:base] *",
   "language": "python",
   "name": "conda-base-py"
  },
  "language_info": {
   "codemirror_mode": {
    "name": "ipython",
    "version": 3
   },
   "file_extension": ".py",
   "mimetype": "text/x-python",
   "name": "python",
   "nbconvert_exporter": "python",
   "pygments_lexer": "ipython3",
   "version": "3.13.5"
  }
 },
 "nbformat": 4,
 "nbformat_minor": 5
}
